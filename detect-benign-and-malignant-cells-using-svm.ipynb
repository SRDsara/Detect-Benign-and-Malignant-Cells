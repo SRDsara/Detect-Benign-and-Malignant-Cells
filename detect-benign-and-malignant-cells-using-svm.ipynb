{
 "cells": [
  {
   "cell_type": "code",
   "execution_count": 1,
   "id": "e4aa8a20",
   "metadata": {
    "execution": {
     "iopub.execute_input": "2023-09-05T20:05:46.946515Z",
     "iopub.status.busy": "2023-09-05T20:05:46.945426Z",
     "iopub.status.idle": "2023-09-05T20:05:48.526717Z",
     "shell.execute_reply": "2023-09-05T20:05:48.525421Z"
    },
    "papermill": {
     "duration": 1.599523,
     "end_time": "2023-09-05T20:05:48.529853",
     "exception": false,
     "start_time": "2023-09-05T20:05:46.930330",
     "status": "completed"
    },
    "tags": []
   },
   "outputs": [],
   "source": [
    "import matplotlib.pyplot as plt\n",
    "import pandas as pd \n",
    "from sklearn import metrics, preprocessing, svm\n",
    "from sklearn.metrics import accuracy_score\n",
    "from sklearn.model_selection import train_test_split"
   ]
  },
  {
   "cell_type": "markdown",
   "id": "df3a6d85",
   "metadata": {
    "papermill": {
     "duration": 0.01206,
     "end_time": "2023-09-05T20:05:48.554643",
     "exception": false,
     "start_time": "2023-09-05T20:05:48.542583",
     "status": "completed"
    },
    "tags": []
   },
   "source": [
    "# 1- Importing Dataset"
   ]
  },
  {
   "cell_type": "code",
   "execution_count": 2,
   "id": "b88ec795",
   "metadata": {
    "execution": {
     "iopub.execute_input": "2023-09-05T20:05:48.582238Z",
     "iopub.status.busy": "2023-09-05T20:05:48.581858Z",
     "iopub.status.idle": "2023-09-05T20:05:48.603499Z",
     "shell.execute_reply": "2023-09-05T20:05:48.602137Z"
    },
    "papermill": {
     "duration": 0.037959,
     "end_time": "2023-09-05T20:05:48.606210",
     "exception": false,
     "start_time": "2023-09-05T20:05:48.568251",
     "status": "completed"
    },
    "tags": []
   },
   "outputs": [],
   "source": [
    "df = pd.read_csv(\"F:\\\\tutorials\\machine learning\\machine_learning_with_python_jadi-main\\cell_samples.csv\")"
   ]
  },
  {
   "cell_type": "code",
   "execution_count": 3,
   "id": "36d8e9ca",
   "metadata": {
    "execution": {
     "iopub.execute_input": "2023-09-05T20:05:48.635293Z",
     "iopub.status.busy": "2023-09-05T20:05:48.634707Z",
     "iopub.status.idle": "2023-09-05T20:05:48.662610Z",
     "shell.execute_reply": "2023-09-05T20:05:48.661687Z"
    },
    "papermill": {
     "duration": 0.045554,
     "end_time": "2023-09-05T20:05:48.665565",
     "exception": false,
     "start_time": "2023-09-05T20:05:48.620011",
     "status": "completed"
    },
    "tags": []
   },
   "outputs": [
    {
     "data": {
      "text/html": [
       "<div>\n",
       "<style scoped>\n",
       "    .dataframe tbody tr th:only-of-type {\n",
       "        vertical-align: middle;\n",
       "    }\n",
       "\n",
       "    .dataframe tbody tr th {\n",
       "        vertical-align: top;\n",
       "    }\n",
       "\n",
       "    .dataframe thead th {\n",
       "        text-align: right;\n",
       "    }\n",
       "</style>\n",
       "<table border=\"1\" class=\"dataframe\">\n",
       "  <thead>\n",
       "    <tr style=\"text-align: right;\">\n",
       "      <th></th>\n",
       "      <th>ID</th>\n",
       "      <th>Clump</th>\n",
       "      <th>UnifSize</th>\n",
       "      <th>UnifShape</th>\n",
       "      <th>MargAdh</th>\n",
       "      <th>SingEpiSize</th>\n",
       "      <th>BareNuc</th>\n",
       "      <th>BlandChrom</th>\n",
       "      <th>NormNucl</th>\n",
       "      <th>Mit</th>\n",
       "      <th>Class</th>\n",
       "    </tr>\n",
       "  </thead>\n",
       "  <tbody>\n",
       "    <tr>\n",
       "      <th>0</th>\n",
       "      <td>1000025</td>\n",
       "      <td>5</td>\n",
       "      <td>1</td>\n",
       "      <td>1</td>\n",
       "      <td>1</td>\n",
       "      <td>2</td>\n",
       "      <td>1</td>\n",
       "      <td>3</td>\n",
       "      <td>1</td>\n",
       "      <td>1</td>\n",
       "      <td>2</td>\n",
       "    </tr>\n",
       "    <tr>\n",
       "      <th>1</th>\n",
       "      <td>1002945</td>\n",
       "      <td>5</td>\n",
       "      <td>4</td>\n",
       "      <td>4</td>\n",
       "      <td>5</td>\n",
       "      <td>7</td>\n",
       "      <td>10</td>\n",
       "      <td>3</td>\n",
       "      <td>2</td>\n",
       "      <td>1</td>\n",
       "      <td>2</td>\n",
       "    </tr>\n",
       "    <tr>\n",
       "      <th>2</th>\n",
       "      <td>1015425</td>\n",
       "      <td>3</td>\n",
       "      <td>1</td>\n",
       "      <td>1</td>\n",
       "      <td>1</td>\n",
       "      <td>2</td>\n",
       "      <td>2</td>\n",
       "      <td>3</td>\n",
       "      <td>1</td>\n",
       "      <td>1</td>\n",
       "      <td>2</td>\n",
       "    </tr>\n",
       "    <tr>\n",
       "      <th>3</th>\n",
       "      <td>1016277</td>\n",
       "      <td>6</td>\n",
       "      <td>8</td>\n",
       "      <td>8</td>\n",
       "      <td>1</td>\n",
       "      <td>3</td>\n",
       "      <td>4</td>\n",
       "      <td>3</td>\n",
       "      <td>7</td>\n",
       "      <td>1</td>\n",
       "      <td>2</td>\n",
       "    </tr>\n",
       "    <tr>\n",
       "      <th>4</th>\n",
       "      <td>1017023</td>\n",
       "      <td>4</td>\n",
       "      <td>1</td>\n",
       "      <td>1</td>\n",
       "      <td>3</td>\n",
       "      <td>2</td>\n",
       "      <td>1</td>\n",
       "      <td>3</td>\n",
       "      <td>1</td>\n",
       "      <td>1</td>\n",
       "      <td>2</td>\n",
       "    </tr>\n",
       "  </tbody>\n",
       "</table>\n",
       "</div>"
      ],
      "text/plain": [
       "        ID  Clump  UnifSize  UnifShape  MargAdh  SingEpiSize BareNuc   \n",
       "0  1000025      5         1          1        1            2       1  \\\n",
       "1  1002945      5         4          4        5            7      10   \n",
       "2  1015425      3         1          1        1            2       2   \n",
       "3  1016277      6         8          8        1            3       4   \n",
       "4  1017023      4         1          1        3            2       1   \n",
       "\n",
       "   BlandChrom  NormNucl  Mit  Class  \n",
       "0           3         1    1      2  \n",
       "1           3         2    1      2  \n",
       "2           3         1    1      2  \n",
       "3           3         7    1      2  \n",
       "4           3         1    1      2  "
      ]
     },
     "execution_count": 3,
     "metadata": {},
     "output_type": "execute_result"
    }
   ],
   "source": [
    "df.head()"
   ]
  },
  {
   "cell_type": "code",
   "execution_count": 4,
   "id": "ad988fb5",
   "metadata": {
    "execution": {
     "iopub.execute_input": "2023-09-05T20:05:48.693724Z",
     "iopub.status.busy": "2023-09-05T20:05:48.692778Z",
     "iopub.status.idle": "2023-09-05T20:05:48.705191Z",
     "shell.execute_reply": "2023-09-05T20:05:48.703763Z"
    },
    "papermill": {
     "duration": 0.028927,
     "end_time": "2023-09-05T20:05:48.707577",
     "exception": false,
     "start_time": "2023-09-05T20:05:48.678650",
     "status": "completed"
    },
    "tags": []
   },
   "outputs": [
    {
     "data": {
      "text/plain": [
       "ID             0\n",
       "Clump          0\n",
       "UnifSize       0\n",
       "UnifShape      0\n",
       "MargAdh        0\n",
       "SingEpiSize    0\n",
       "BareNuc        0\n",
       "BlandChrom     0\n",
       "NormNucl       0\n",
       "Mit            0\n",
       "Class          0\n",
       "dtype: int64"
      ]
     },
     "execution_count": 4,
     "metadata": {},
     "output_type": "execute_result"
    }
   ],
   "source": [
    "df.isnull().sum()"
   ]
  },
  {
   "cell_type": "code",
   "execution_count": 5,
   "id": "c37cd86a",
   "metadata": {
    "execution": {
     "iopub.execute_input": "2023-09-05T20:05:48.734543Z",
     "iopub.status.busy": "2023-09-05T20:05:48.734135Z",
     "iopub.status.idle": "2023-09-05T20:05:48.742818Z",
     "shell.execute_reply": "2023-09-05T20:05:48.741674Z"
    },
    "papermill": {
     "duration": 0.024827,
     "end_time": "2023-09-05T20:05:48.745105",
     "exception": false,
     "start_time": "2023-09-05T20:05:48.720278",
     "status": "completed"
    },
    "tags": []
   },
   "outputs": [
    {
     "data": {
      "text/plain": [
       "ID              int64\n",
       "Clump           int64\n",
       "UnifSize        int64\n",
       "UnifShape       int64\n",
       "MargAdh         int64\n",
       "SingEpiSize     int64\n",
       "BareNuc        object\n",
       "BlandChrom      int64\n",
       "NormNucl        int64\n",
       "Mit             int64\n",
       "Class           int64\n",
       "dtype: object"
      ]
     },
     "execution_count": 5,
     "metadata": {},
     "output_type": "execute_result"
    }
   ],
   "source": [
    "df.dtypes"
   ]
  },
  {
   "cell_type": "markdown",
   "id": "df97dc10",
   "metadata": {
    "papermill": {
     "duration": 0.012163,
     "end_time": "2023-09-05T20:05:48.771004",
     "exception": false,
     "start_time": "2023-09-05T20:05:48.758841",
     "status": "completed"
    },
    "tags": []
   },
   "source": [
    "# 2- Cleaning Data"
   ]
  },
  {
   "cell_type": "markdown",
   "id": "b63ff201",
   "metadata": {
    "papermill": {
     "duration": 0.014043,
     "end_time": "2023-09-05T20:05:48.797790",
     "exception": false,
     "start_time": "2023-09-05T20:05:48.783747",
     "status": "completed"
    },
    "tags": []
   },
   "source": [
    "## 2-1- Handling Missing Data"
   ]
  },
  {
   "cell_type": "code",
   "execution_count": 6,
   "id": "ee038f3a",
   "metadata": {
    "execution": {
     "iopub.execute_input": "2023-09-05T20:05:48.824968Z",
     "iopub.status.busy": "2023-09-05T20:05:48.824519Z",
     "iopub.status.idle": "2023-09-05T20:05:48.844964Z",
     "shell.execute_reply": "2023-09-05T20:05:48.843825Z"
    },
    "papermill": {
     "duration": 0.037104,
     "end_time": "2023-09-05T20:05:48.847490",
     "exception": false,
     "start_time": "2023-09-05T20:05:48.810386",
     "status": "completed"
    },
    "tags": []
   },
   "outputs": [],
   "source": [
    "df = df[pd.to_numeric(df[\"BareNuc\"], errors=\"coerce\").notnull()]\n",
    "df = df.astype({\"BareNuc\":'int64'})"
   ]
  },
  {
   "cell_type": "markdown",
   "id": "958fa2bd",
   "metadata": {
    "papermill": {
     "duration": 0.015005,
     "end_time": "2023-09-05T20:05:48.877320",
     "exception": false,
     "start_time": "2023-09-05T20:05:48.862315",
     "status": "completed"
    },
    "tags": []
   },
   "source": [
    "# 3-Plotting"
   ]
  },
  {
   "cell_type": "code",
   "execution_count": 7,
   "id": "50e9738d",
   "metadata": {
    "execution": {
     "iopub.execute_input": "2023-09-05T20:05:48.906370Z",
     "iopub.status.busy": "2023-09-05T20:05:48.905646Z",
     "iopub.status.idle": "2023-09-05T20:05:49.423940Z",
     "shell.execute_reply": "2023-09-05T20:05:49.422664Z"
    },
    "papermill": {
     "duration": 0.536139,
     "end_time": "2023-09-05T20:05:49.426567",
     "exception": false,
     "start_time": "2023-09-05T20:05:48.890428",
     "status": "completed"
    },
    "tags": []
   },
   "outputs": [
    {
     "data": {
      "image/png": "[encoded data removed]",
      "text/plain": [
       "<Figure size 640x480 with 1 Axes>"
      ]
     },
     "metadata": {},
     "output_type": "display_data"
    }
   ],
   "source": [
    "ax = df[df[\"Class\"]==4].plot(kind=\"scatter\", color=\"red\", x=\"MargAdh\", y=\"Mit\", label=\"malignant\")\n",
    "df[df[\"Class\"]==2].plot(kind=\"scatter\", color=\"green\", x=\"MargAdh\", y=\"Mit\", label=\"malignant\", ax=ax)\n",
    "plt.show()"
   ]
  },
  {
   "cell_type": "markdown",
   "id": "6c54bf5b",
   "metadata": {
    "papermill": {
     "duration": 0.013728,
     "end_time": "2023-09-05T20:05:49.454812",
     "exception": false,
     "start_time": "2023-09-05T20:05:49.441084",
     "status": "completed"
    },
    "tags": []
   },
   "source": [
    "# 4- Defining X(features) and y(label)"
   ]
  },
  {
   "cell_type": "code",
   "execution_count": 8,
   "id": "f9bc040d",
   "metadata": {
    "execution": {
     "iopub.execute_input": "2023-09-05T20:05:49.484193Z",
     "iopub.status.busy": "2023-09-05T20:05:49.483791Z",
     "iopub.status.idle": "2023-09-05T20:05:49.492970Z",
     "shell.execute_reply": "2023-09-05T20:05:49.491836Z"
    },
    "papermill": {
     "duration": 0.027535,
     "end_time": "2023-09-05T20:05:49.495568",
     "exception": false,
     "start_time": "2023-09-05T20:05:49.468033",
     "status": "completed"
    },
    "tags": []
   },
   "outputs": [],
   "source": [
    "X=  df[[\"Clump\",\"UnifSize\",\"UnifShape\",\"MargAdh\",\"SingEpiSize\",\"BareNuc\",\"BlandChrom\",\"NormNucl\",\"Mit\"]]\n",
    "y = df[[\"Class\"]]"
   ]
  },
  {
   "cell_type": "markdown",
   "id": "16e6c771",
   "metadata": {
    "papermill": {
     "duration": 0.013174,
     "end_time": "2023-09-05T20:05:49.522958",
     "exception": false,
     "start_time": "2023-09-05T20:05:49.509784",
     "status": "completed"
    },
    "tags": []
   },
   "source": [
    "# 5- Normalizing the Data"
   ]
  },
  {
   "cell_type": "markdown",
   "id": "42ac0b2d",
   "metadata": {
    "papermill": {
     "duration": 0.012754,
     "end_time": "2023-09-05T20:05:49.549102",
     "exception": false,
     "start_time": "2023-09-05T20:05:49.536348",
     "status": "completed"
    },
    "tags": []
   },
   "source": [
    "## 5-1-Before Normalization"
   ]
  },
  {
   "cell_type": "code",
   "execution_count": 9,
   "id": "19518ecc",
   "metadata": {
    "execution": {
     "iopub.execute_input": "2023-09-05T20:05:49.578445Z",
     "iopub.status.busy": "2023-09-05T20:05:49.577378Z",
     "iopub.status.idle": "2023-09-05T20:05:49.588252Z",
     "shell.execute_reply": "2023-09-05T20:05:49.587206Z"
    },
    "papermill": {
     "duration": 0.027941,
     "end_time": "2023-09-05T20:05:49.590584",
     "exception": false,
     "start_time": "2023-09-05T20:05:49.562643",
     "status": "completed"
    },
    "tags": []
   },
   "outputs": [
    {
     "data": {
      "text/plain": [
       "Clump          2.820761\n",
       "UnifSize       3.065145\n",
       "UnifShape      2.988581\n",
       "MargAdh        2.864562\n",
       "SingEpiSize    2.223085\n",
       "BareNuc        3.643857\n",
       "BlandChrom     2.449697\n",
       "NormNucl       3.052666\n",
       "Mit            1.732674\n",
       "dtype: float64"
      ]
     },
     "execution_count": 9,
     "metadata": {},
     "output_type": "execute_result"
    }
   ],
   "source": [
    "X.std()"
   ]
  },
  {
   "cell_type": "code",
   "execution_count": 10,
   "id": "ccff42ed",
   "metadata": {
    "execution": {
     "iopub.execute_input": "2023-09-05T20:05:49.619787Z",
     "iopub.status.busy": "2023-09-05T20:05:49.619084Z",
     "iopub.status.idle": "2023-09-05T20:05:49.627802Z",
     "shell.execute_reply": "2023-09-05T20:05:49.626886Z"
    },
    "papermill": {
     "duration": 0.026214,
     "end_time": "2023-09-05T20:05:49.630190",
     "exception": false,
     "start_time": "2023-09-05T20:05:49.603976",
     "status": "completed"
    },
    "tags": []
   },
   "outputs": [
    {
     "data": {
      "text/plain": [
       "Clump          4.442167\n",
       "UnifSize       3.150805\n",
       "UnifShape      3.215227\n",
       "MargAdh        2.830161\n",
       "SingEpiSize    3.234261\n",
       "BareNuc        3.544656\n",
       "BlandChrom     3.445095\n",
       "NormNucl       2.869693\n",
       "Mit            1.603221\n",
       "dtype: float64"
      ]
     },
     "execution_count": 10,
     "metadata": {},
     "output_type": "execute_result"
    }
   ],
   "source": [
    "X.mean()"
   ]
  },
  {
   "cell_type": "markdown",
   "id": "b037ecda",
   "metadata": {
    "papermill": {
     "duration": 0.012775,
     "end_time": "2023-09-05T20:05:49.656094",
     "exception": false,
     "start_time": "2023-09-05T20:05:49.643319",
     "status": "completed"
    },
    "tags": []
   },
   "source": [
    "## 5-2-Normalization"
   ]
  },
  {
   "cell_type": "code",
   "execution_count": 11,
   "id": "cf61e588",
   "metadata": {
    "execution": {
     "iopub.execute_input": "2023-09-05T20:05:49.684212Z",
     "iopub.status.busy": "2023-09-05T20:05:49.683803Z",
     "iopub.status.idle": "2023-09-05T20:05:49.698325Z",
     "shell.execute_reply": "2023-09-05T20:05:49.697098Z"
    },
    "papermill": {
     "duration": 0.031618,
     "end_time": "2023-09-05T20:05:49.701014",
     "exception": false,
     "start_time": "2023-09-05T20:05:49.669396",
     "status": "completed"
    },
    "tags": []
   },
   "outputs": [],
   "source": [
    "scale = preprocessing.StandardScaler().fit(X)\n",
    "X = scale.fit_transform(X)"
   ]
  },
  {
   "cell_type": "markdown",
   "id": "6e8dc63b",
   "metadata": {
    "papermill": {
     "duration": 0.013461,
     "end_time": "2023-09-05T20:05:49.727699",
     "exception": false,
     "start_time": "2023-09-05T20:05:49.714238",
     "status": "completed"
    },
    "tags": []
   },
   "source": [
    "## 5-3-After Normalization"
   ]
  },
  {
   "cell_type": "code",
   "execution_count": 12,
   "id": "590da360",
   "metadata": {
    "execution": {
     "iopub.execute_input": "2023-09-05T20:05:49.756158Z",
     "iopub.status.busy": "2023-09-05T20:05:49.755375Z",
     "iopub.status.idle": "2023-09-05T20:05:49.761994Z",
     "shell.execute_reply": "2023-09-05T20:05:49.761111Z"
    },
    "papermill": {
     "duration": 0.023577,
     "end_time": "2023-09-05T20:05:49.764377",
     "exception": false,
     "start_time": "2023-09-05T20:05:49.740800",
     "status": "completed"
    },
    "tags": []
   },
   "outputs": [
    {
     "data": {
      "text/plain": [
       "1.0"
      ]
     },
     "execution_count": 12,
     "metadata": {},
     "output_type": "execute_result"
    }
   ],
   "source": [
    "X.std()"
   ]
  },
  {
   "cell_type": "code",
   "execution_count": 13,
   "id": "1394a30f",
   "metadata": {
    "execution": {
     "iopub.execute_input": "2023-09-05T20:05:49.793221Z",
     "iopub.status.busy": "2023-09-05T20:05:49.792811Z",
     "iopub.status.idle": "2023-09-05T20:05:49.799953Z",
     "shell.execute_reply": "2023-09-05T20:05:49.799128Z"
    },
    "papermill": {
     "duration": 0.024194,
     "end_time": "2023-09-05T20:05:49.802305",
     "exception": false,
     "start_time": "2023-09-05T20:05:49.778111",
     "status": "completed"
    },
    "tags": []
   },
   "outputs": [
    {
     "data": {
      "text/plain": [
       "1.8494686468458767e-17"
      ]
     },
     "execution_count": 13,
     "metadata": {},
     "output_type": "execute_result"
    }
   ],
   "source": [
    "X.mean()"
   ]
  },
  {
   "cell_type": "markdown",
   "id": "c6dabd84",
   "metadata": {
    "papermill": {
     "duration": 0.013704,
     "end_time": "2023-09-05T20:05:49.830242",
     "exception": false,
     "start_time": "2023-09-05T20:05:49.816538",
     "status": "completed"
    },
    "tags": []
   },
   "source": [
    "# 6-Train Test Split"
   ]
  },
  {
   "cell_type": "code",
   "execution_count": 14,
   "id": "5d427e59",
   "metadata": {
    "execution": {
     "iopub.execute_input": "2023-09-05T20:05:49.860022Z",
     "iopub.status.busy": "2023-09-05T20:05:49.858973Z",
     "iopub.status.idle": "2023-09-05T20:05:49.865416Z",
     "shell.execute_reply": "2023-09-05T20:05:49.864505Z"
    },
    "papermill": {
     "duration": 0.023857,
     "end_time": "2023-09-05T20:05:49.867855",
     "exception": false,
     "start_time": "2023-09-05T20:05:49.843998",
     "status": "completed"
    },
    "tags": []
   },
   "outputs": [],
   "source": [
    "X_train, X_test, y_train, y_test = train_test_split(X, y, random_state=0)"
   ]
  },
  {
   "cell_type": "markdown",
   "id": "1e748300",
   "metadata": {
    "papermill": {
     "duration": 0.013865,
     "end_time": "2023-09-05T20:05:49.895808",
     "exception": false,
     "start_time": "2023-09-05T20:05:49.881943",
     "status": "completed"
    },
    "tags": []
   },
   "source": [
    "# 7-Modeling"
   ]
  },
  {
   "cell_type": "code",
   "execution_count": 15,
   "id": "96a69596",
   "metadata": {
    "execution": {
     "iopub.execute_input": "2023-09-05T20:05:49.926113Z",
     "iopub.status.busy": "2023-09-05T20:05:49.925057Z",
     "iopub.status.idle": "2023-09-05T20:05:49.944383Z",
     "shell.execute_reply": "2023-09-05T20:05:49.943546Z"
    },
    "papermill": {
     "duration": 0.037054,
     "end_time": "2023-09-05T20:05:49.947204",
     "exception": false,
     "start_time": "2023-09-05T20:05:49.910150",
     "status": "completed"
    },
    "tags": []
   },
   "outputs": [
    {
     "data": {
      "text/html": [
       "<style>#sk-container-id-1 {color: black;background-color: white;}#sk-container-id-1 pre{padding: 0;}#sk-container-id-1 div.sk-toggleable {background-color: white;}#sk-container-id-1 label.sk-toggleable__label {cursor: pointer;display: block;width: 100%;margin-bottom: 0;padding: 0.3em;box-sizing: border-box;text-align: center;}#sk-container-id-1 label.sk-toggleable__label-arrow:before {content: \"▸\";float: left;margin-right: 0.25em;color: #696969;}#sk-container-id-1 label.sk-toggleable__label-arrow:hover:before {color: black;}#sk-container-id-1 div.sk-estimator:hover label.sk-toggleable__label-arrow:before {color: black;}#sk-container-id-1 div.sk-toggleable__content {max-height: 0;max-width: 0;overflow: hidden;text-align: left;background-color: #f0f8ff;}#sk-container-id-1 div.sk-toggleable__content pre {margin: 0.2em;color: black;border-radius: 0.25em;background-color: #f0f8ff;}#sk-container-id-1 input.sk-toggleable__control:checked~div.sk-toggleable__content {max-height: 200px;max-width: 100%;overflow: auto;}#sk-container-id-1 input.sk-toggleable__control:checked~label.sk-toggleable__label-arrow:before {content: \"▾\";}#sk-container-id-1 div.sk-estimator input.sk-toggleable__control:checked~label.sk-toggleable__label {background-color: #d4ebff;}#sk-container-id-1 div.sk-label input.sk-toggleable__control:checked~label.sk-toggleable__label {background-color: #d4ebff;}#sk-container-id-1 input.sk-hidden--visually {border: 0;clip: rect(1px 1px 1px 1px);clip: rect(1px, 1px, 1px, 1px);height: 1px;margin: -1px;overflow: hidden;padding: 0;position: absolute;width: 1px;}#sk-container-id-1 div.sk-estimator {font-family: monospace;background-color: #f0f8ff;border: 1px dotted black;border-radius: 0.25em;box-sizing: border-box;margin-bottom: 0.5em;}#sk-container-id-1 div.sk-estimator:hover {background-color: #d4ebff;}#sk-container-id-1 div.sk-parallel-item::after {content: \"\";width: 100%;border-bottom: 1px solid gray;flex-grow: 1;}#sk-container-id-1 div.sk-label:hover label.sk-toggleable__label {background-color: #d4ebff;}#sk-container-id-1 div.sk-serial::before {content: \"\";position: absolute;border-left: 1px solid gray;box-sizing: border-box;top: 0;bottom: 0;left: 50%;z-index: 0;}#sk-container-id-1 div.sk-serial {display: flex;flex-direction: column;align-items: center;background-color: white;padding-right: 0.2em;padding-left: 0.2em;position: relative;}#sk-container-id-1 div.sk-item {position: relative;z-index: 1;}#sk-container-id-1 div.sk-parallel {display: flex;align-items: stretch;justify-content: center;background-color: white;position: relative;}#sk-container-id-1 div.sk-item::before, #sk-container-id-1 div.sk-parallel-item::before {content: \"\";position: absolute;border-left: 1px solid gray;box-sizing: border-box;top: 0;bottom: 0;left: 50%;z-index: -1;}#sk-container-id-1 div.sk-parallel-item {display: flex;flex-direction: column;z-index: 1;position: relative;background-color: white;}#sk-container-id-1 div.sk-parallel-item:first-child::after {align-self: flex-end;width: 50%;}#sk-container-id-1 div.sk-parallel-item:last-child::after {align-self: flex-start;width: 50%;}#sk-container-id-1 div.sk-parallel-item:only-child::after {width: 0;}#sk-container-id-1 div.sk-dashed-wrapped {border: 1px dashed gray;margin: 0 0.4em 0.5em 0.4em;box-sizing: border-box;padding-bottom: 0.4em;background-color: white;}#sk-container-id-1 div.sk-label label {font-family: monospace;font-weight: bold;display: inline-block;line-height: 1.2em;}#sk-container-id-1 div.sk-label-container {text-align: center;}#sk-container-id-1 div.sk-container {/* jupyter's `normalize.less` sets `[hidden] { display: none; }` but bootstrap.min.css set `[hidden] { display: none !important; }` so we also need the `!important` here to be able to override the default hidden behavior on the sphinx rendered scikit-learn.org. See: https://github.com/scikit-learn/scikit-learn/issues/21755 */display: inline-block !important;position: relative;}#sk-container-id-1 div.sk-text-repr-fallback {display: none;}</style><div id=\"sk-container-id-1\" class=\"sk-top-container\"><div class=\"sk-text-repr-fallback\"><pre>SVC(kernel=&#x27;sigmoid&#x27;)</pre><b>In a Jupyter environment, please rerun this cell to show the HTML representation or trust the notebook. <br />On GitHub, the HTML representation is unable to render, please try loading this page with nbviewer.org.</b></div><div class=\"sk-container\" hidden><div class=\"sk-item\"><div class=\"sk-estimator sk-toggleable\"><input class=\"sk-toggleable__control sk-hidden--visually\" id=\"sk-estimator-id-1\" type=\"checkbox\" checked><label for=\"sk-estimator-id-1\" class=\"sk-toggleable__label sk-toggleable__label-arrow\">SVC</label><div class=\"sk-toggleable__content\"><pre>SVC(kernel=&#x27;sigmoid&#x27;)</pre></div></div></div></div></div>"
      ],
      "text/plain": [
       "SVC(kernel='sigmoid')"
      ]
     },
     "execution_count": 15,
     "metadata": {},
     "output_type": "execute_result"
    }
   ],
   "source": [
    "clf = svm.SVC(kernel=\"sigmoid\")\n",
    "clf.fit(X_train, y_train.values.ravel()) "
   ]
  },
  {
   "cell_type": "markdown",
   "id": "c598fc6a",
   "metadata": {
    "papermill": {
     "duration": 0.015741,
     "end_time": "2023-09-05T20:05:49.979021",
     "exception": false,
     "start_time": "2023-09-05T20:05:49.963280",
     "status": "completed"
    },
    "tags": []
   },
   "source": [
    "# 8-Predicting Test Set"
   ]
  },
  {
   "cell_type": "code",
   "execution_count": 16,
   "id": "de1609cf",
   "metadata": {
    "execution": {
     "iopub.execute_input": "2023-09-05T20:05:50.010923Z",
     "iopub.status.busy": "2023-09-05T20:05:50.009542Z",
     "iopub.status.idle": "2023-09-05T20:05:50.017308Z",
     "shell.execute_reply": "2023-09-05T20:05:50.015670Z"
    },
    "papermill": {
     "duration": 0.02677,
     "end_time": "2023-09-05T20:05:50.019844",
     "exception": false,
     "start_time": "2023-09-05T20:05:49.993074",
     "status": "completed"
    },
    "tags": []
   },
   "outputs": [],
   "source": [
    "y_pred = clf.predict(X_test)"
   ]
  },
  {
   "cell_type": "code",
   "execution_count": 17,
   "id": "a221c1c8",
   "metadata": {
    "execution": {
     "iopub.execute_input": "2023-09-05T20:05:50.050859Z",
     "iopub.status.busy": "2023-09-05T20:05:50.049756Z",
     "iopub.status.idle": "2023-09-05T20:05:50.059579Z",
     "shell.execute_reply": "2023-09-05T20:05:50.058367Z"
    },
    "papermill": {
     "duration": 0.02865,
     "end_time": "2023-09-05T20:05:50.062438",
     "exception": false,
     "start_time": "2023-09-05T20:05:50.033788",
     "status": "completed"
    },
    "tags": []
   },
   "outputs": [
    {
     "data": {
      "text/plain": [
       "array([2, 2, 4, 4, 2, 2, 2, 4, 2, 2, 4, 2, 4, 2, 2, 4, 4, 4, 4, 2, 2, 2,\n",
       "       4, 2, 4, 4, 2, 2, 2, 4, 2, 4, 4, 2, 2, 2, 4, 4, 2, 4, 2, 2, 2, 2,\n",
       "       2, 2, 2, 4, 2, 2, 4, 2, 4, 2, 2, 2, 4, 4, 2, 4, 2, 2, 2, 2, 2, 2,\n",
       "       2, 2, 4, 4, 2, 2, 2, 2, 2, 2, 4, 2, 2, 2, 4, 2, 4, 2, 2, 4, 2, 4,\n",
       "       4, 2, 4, 2, 4, 4, 2, 4, 4, 4, 4, 2, 2, 2, 4, 4, 2, 2, 4, 2, 2, 2,\n",
       "       4, 2, 2, 4, 2, 2, 2, 4, 2, 2, 2, 4, 2, 2, 4, 4, 2, 4, 2, 4, 2, 2,\n",
       "       4, 2, 2, 4, 2, 4, 2, 2, 2, 4, 2, 2, 2, 4, 4, 2, 4, 2, 4, 4, 2, 2,\n",
       "       2, 2, 4, 4, 2, 4, 4, 4, 4, 2, 4, 2, 2, 2, 2, 2, 2], dtype=int64)"
      ]
     },
     "execution_count": 17,
     "metadata": {},
     "output_type": "execute_result"
    }
   ],
   "source": [
    "y_pred"
   ]
  },
  {
   "cell_type": "markdown",
   "id": "ca4ba983",
   "metadata": {
    "papermill": {
     "duration": 0.014608,
     "end_time": "2023-09-05T20:05:50.156040",
     "exception": false,
     "start_time": "2023-09-05T20:05:50.141432",
     "status": "completed"
    },
    "tags": []
   },
   "source": [
    "# 9-Confusiosn Matrix"
   ]
  },
  {
   "cell_type": "code",
   "execution_count": 18,
   "id": "b9b0bdc5",
   "metadata": {
    "execution": {
     "iopub.execute_input": "2023-09-05T20:05:50.187254Z",
     "iopub.status.busy": "2023-09-05T20:05:50.186833Z",
     "iopub.status.idle": "2023-09-05T20:05:50.483422Z",
     "shell.execute_reply": "2023-09-05T20:05:50.482283Z"
    },
    "papermill": {
     "duration": 0.315282,
     "end_time": "2023-09-05T20:05:50.486039",
     "exception": false,
     "start_time": "2023-09-05T20:05:50.170757",
     "status": "completed"
    },
    "tags": []
   },
   "outputs": [
    {
     "data": {
      "image/png": "[encoded data removed]",
      "text/plain": [
       "<Figure size 640x480 with 2 Axes>"
      ]
     },
     "metadata": {},
     "output_type": "display_data"
    }
   ],
   "source": [
    "confusion_matrix = metrics.confusion_matrix(y_test, y_pred)\n",
    "cm_display = metrics.ConfusionMatrixDisplay(confusion_matrix = confusion_matrix, display_labels = [2, 4])\n",
    "cm_display.plot()\n",
    "plt.show()"
   ]
  },
  {
   "cell_type": "markdown",
   "id": "bb7b7e44",
   "metadata": {
    "papermill": {
     "duration": 0.015584,
     "end_time": "2023-09-05T20:05:50.516146",
     "exception": false,
     "start_time": "2023-09-05T20:05:50.500562",
     "status": "completed"
    },
    "tags": []
   },
   "source": [
    "# 10-Evaluation"
   ]
  },
  {
   "cell_type": "code",
   "execution_count": 19,
   "id": "d5a7e538",
   "metadata": {
    "execution": {
     "iopub.execute_input": "2023-09-05T20:05:50.548101Z",
     "iopub.status.busy": "2023-09-05T20:05:50.547341Z",
     "iopub.status.idle": "2023-09-05T20:05:50.560131Z",
     "shell.execute_reply": "2023-09-05T20:05:50.559043Z"
    },
    "papermill": {
     "duration": 0.031534,
     "end_time": "2023-09-05T20:05:50.562357",
     "exception": false,
     "start_time": "2023-09-05T20:05:50.530823",
     "status": "completed"
    },
    "tags": []
   },
   "outputs": [
    {
     "data": {
      "text/plain": [
       "0.9532163742690059"
      ]
     },
     "execution_count": 19,
     "metadata": {},
     "output_type": "execute_result"
    }
   ],
   "source": [
    "accuracy_score(y_test, y_pred)"
   ]
  }
 ],
 "kernelspec": {
  "display_name": "Python 3",
  "language": "python",
  "name": "python3"
 },
 "language_info": {
  "codemirror_mode": {
   "name": "ipython",
   "version": 3
  },
  "file_extension": ".py",
  "mimetype": "text/x-python",
  "name": "python",
  "nbconvert_exporter": "python",
  "pygments_lexer": "ipython3",
  "version": "3.6.4"
 },
 "metadata": {
  "kernelspec": {
   "display_name": "Python 3",
   "language": "python",
   "name": "python3"
  },
  "language_info": {
   "codemirror_mode": {
    "name": "ipython",
    "version": 3
   },
   "file_extension": ".py",
   "mimetype": "text/x-python",
   "name": "python",
   "nbconvert_exporter": "python",
   "pygments_lexer": "ipython3",
   "version": "3.11.3"
  },
  "papermill": {
   "default_parameters": {},
   "duration": 8.577192,
   "end_time": "2023-09-05T20:05:51.197315",
   "environment_variables": {},
   "exception": null,
   "input_path": "__notebook__.ipynb",
   "output_path": "__notebook__.ipynb",
   "parameters": {},
   "start_time": "2023-09-05T20:05:42.620123",
   "version": "2.4.0"
  }
 },
 "nbformat": 4,
 "nbformat_minor": 5
}
